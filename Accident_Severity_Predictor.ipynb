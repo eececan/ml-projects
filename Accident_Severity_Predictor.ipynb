{
 "cells": [
  {
   "cell_type": "markdown",
   "id": "d46c44ca-9198-4c0b-85d4-081abd7254c8",
   "metadata": {},
   "source": [
    "# Analyzing and Predicting Accident Severity with UK Road Safety Data"
   ]
  },
  {
   "cell_type": "markdown",
   "id": "5b6c1666-b8e1-41c6-9908-4adc976b2dca",
   "metadata": {},
   "source": [
    "- **Primary Objective**: Predict quantify accident severity levels (Slight, Serious, Fatal) using classification models.\n",
    "- **Secondary Objective**: Analyze factors influencing accident severity using UK Road Safety data from 2023."
   ]
  },
  {
   "cell_type": "code",
   "execution_count": 12,
   "id": "ac1c4367-ea5c-425e-a9da-6c5186a8b34f",
   "metadata": {},
   "outputs": [],
   "source": [
    "import pandas as pd\n",
    "import numpy as np\n",
    "import matplotlib.pyplot as plt\n",
    "import seaborn as sns\n",
    "import sklearn\n",
    "sns.set_style(\"whitegrid\")"
   ]
  },
  {
   "cell_type": "markdown",
   "id": "fa34e86b-1f9e-4440-9fb5-4cee352d38ac",
   "metadata": {},
   "source": [
    "### 1. Data Acquisition"
   ]
  },
  {
   "cell_type": "code",
   "execution_count": 14,
   "id": "3bfc16a3-acb8-4434-9f69-5562759d09a2",
   "metadata": {
    "scrolled": true
   },
   "outputs": [
    {
     "name": "stdout",
     "output_type": "stream",
     "text": [
      "Columns in df_collision:\n",
      "  - accident_index\n",
      "  - accident_year\n",
      "  - accident_reference\n",
      "  - location_easting_osgr\n",
      "  - location_northing_osgr\n",
      "  - longitude\n",
      "  - latitude\n",
      "  - police_force\n",
      "  - accident_severity\n",
      "  - number_of_vehicles\n",
      "  - number_of_casualties\n",
      "  - date\n",
      "  - day_of_week\n",
      "  - time\n",
      "  - local_authority_district\n",
      "  - local_authority_ons_district\n",
      "  - local_authority_highway\n",
      "  - first_road_class\n",
      "  - first_road_number\n",
      "  - road_type\n",
      "  - speed_limit\n",
      "  - junction_detail\n",
      "  - junction_control\n",
      "  - second_road_class\n",
      "  - second_road_number\n",
      "  - pedestrian_crossing_human_control\n",
      "  - pedestrian_crossing_physical_facilities\n",
      "  - light_conditions\n",
      "  - weather_conditions\n",
      "  - road_surface_conditions\n",
      "  - special_conditions_at_site\n",
      "  - carriageway_hazards\n",
      "  - urban_or_rural_area\n",
      "  - did_police_officer_attend_scene_of_accident\n",
      "  - trunk_road_flag\n",
      "  - lsoa_of_accident_location\n",
      "  - enhanced_severity_collision\n",
      "\n",
      "Columns in df_vehicle:\n",
      "  - accident_index\n",
      "  - accident_year\n",
      "  - accident_reference\n",
      "  - vehicle_reference\n",
      "  - vehicle_type\n",
      "  - towing_and_articulation\n",
      "  - vehicle_manoeuvre\n",
      "  - vehicle_direction_from\n",
      "  - vehicle_direction_to\n",
      "  - vehicle_location_restricted_lane\n",
      "  - junction_location\n",
      "  - skidding_and_overturning\n",
      "  - hit_object_in_carriageway\n",
      "  - vehicle_leaving_carriageway\n",
      "  - hit_object_off_carriageway\n",
      "  - first_point_of_impact\n",
      "  - vehicle_left_hand_drive\n",
      "  - journey_purpose_of_driver\n",
      "  - sex_of_driver\n",
      "  - age_of_driver\n",
      "  - age_band_of_driver\n",
      "  - engine_capacity_cc\n",
      "  - propulsion_code\n",
      "  - age_of_vehicle\n",
      "  - generic_make_model\n",
      "  - driver_imd_decile\n",
      "  - driver_home_area_type\n",
      "  - lsoa_of_driver\n",
      "  - escooter_flag\n",
      "  - dir_from_e\n",
      "  - dir_from_n\n",
      "  - dir_to_e\n",
      "  - dir_to_n\n",
      "  - driver_distance_banding\n",
      "\n",
      "Columns in df_casualty:\n",
      "  - accident_index\n",
      "  - accident_year\n",
      "  - accident_reference\n",
      "  - vehicle_reference\n",
      "  - casualty_reference\n",
      "  - casualty_class\n",
      "  - sex_of_casualty\n",
      "  - age_of_casualty\n",
      "  - age_band_of_casualty\n",
      "  - casualty_severity\n",
      "  - pedestrian_location\n",
      "  - pedestrian_movement\n",
      "  - car_passenger\n",
      "  - bus_or_coach_passenger\n",
      "  - pedestrian_road_maintenance_worker\n",
      "  - casualty_type\n",
      "  - casualty_home_area_type\n",
      "  - casualty_imd_decile\n",
      "  - lsoa_of_casualty\n",
      "  - enhanced_casualty_severity\n",
      "  - casualty_distance_banding\n"
     ]
    }
   ],
   "source": [
    "df_collision = pd.read_csv('data//dft-road-casualty-statistics-collision-2023.csv', delimiter=',', low_memory=False)\n",
    "df_vehicle = pd.read_csv('data//dft-road-casualty-statistics-vehicle-2023.csv', delimiter=',', low_memory=False)\n",
    "df_casualty = pd.read_csv('data//dft-road-casualty-statistics-casualty-2023.csv', delimiter=',', low_memory=False)\n",
    "\n",
    "print(\"Columns in df_collision:\")\n",
    "for col in df_collision.columns:\n",
    "    print(f\"  - {col}\") \n",
    "\n",
    "print(\"\\nColumns in df_vehicle:\")\n",
    "for col in df_vehicle.columns:\n",
    "    print(f\"  - {col}\")\n",
    "\n",
    "print(\"\\nColumns in df_casualty:\")\n",
    "for col in df_casualty.columns:\n",
    "    print(f\"  - {col}\")\n",
    "\n",
    "df_merged = df_collision.merge(df_vehicle, on='accident_index', how='left')\n",
    "df_merged = df_merged.merge(df_casualty, on='accident_index', how='left')"
   ]
  },
  {
   "cell_type": "markdown",
   "id": "92c52fef-4de5-45d1-9bc1-9afa580750e4",
   "metadata": {},
   "source": [
    "### 2. Explanatory Data Analysis (EDA)"
   ]
  },
  {
   "cell_type": "markdown",
   "id": "362fd1c0-7a10-4dd0-a830-584fdac05c4f",
   "metadata": {},
   "source": [
    "#### 2.1 Selecting Columns to Focus on"
   ]
  },
  {
   "cell_type": "code",
   "execution_count": 18,
   "id": "101718f3-9ef4-4479-a0f2-b8ba0eab78a0",
   "metadata": {},
   "outputs": [],
   "source": [
    "selected_columns = [\n",
    "    'accident_severity', \n",
    "    'day_of_week', \n",
    "    'time',\n",
    "    'road_surface_conditions', \n",
    "    'light_conditions', \n",
    "    'weather_conditions', \n",
    "    'road_type', \n",
    "    'junction_detail',\n",
    "    'vehicle_type', \n",
    "    'age_of_driver',  \n",
    "    'casualty_type',      \n",
    "]\n",
    "df_selected = df_merged[selected_columns]"
   ]
  },
  {
   "cell_type": "markdown",
   "id": "e45f5d9a-8aed-4bf3-b298-3d7bb20a0e76",
   "metadata": {},
   "source": [
    "#### 2.2 Handling Missing Data"
   ]
  },
  {
   "cell_type": "code",
   "execution_count": 20,
   "id": "3555004f-5002-49a9-a325-d1ade713521e",
   "metadata": {},
   "outputs": [
    {
     "name": "stdout",
     "output_type": "stream",
     "text": [
      "accident_severity           0.000000\n",
      "day_of_week                 0.000000\n",
      "time                        0.000000\n",
      "road_surface_conditions     0.871890\n",
      "light_conditions            0.000000\n",
      "weather_conditions          0.000000\n",
      "road_type                   0.000000\n",
      "junction_detail             0.000791\n",
      "vehicle_type                0.155398\n",
      "age_of_driver              13.860869\n",
      "casualty_type               0.022539\n",
      "dtype: float64\n"
     ]
    }
   ],
   "source": [
    "df_selected = df_merged[selected_columns].replace(-1, pd.NA) \n",
    "miss_percentage = df_selected.isnull().sum() * 100 / len(df_selected)\n",
    "print(miss_percentage)"
   ]
  },
  {
   "cell_type": "markdown",
   "id": "366637bb-517f-4990-9799-4e62c350526e",
   "metadata": {},
   "source": [
    "Mode imputing is used for low percentages of missing data, while the row with missing data is deleted for moderate rates."
   ]
  },
  {
   "cell_type": "code",
   "execution_count": 22,
   "id": "456af431-222e-4da8-ad13-469ad702554b",
   "metadata": {},
   "outputs": [
    {
     "name": "stderr",
     "output_type": "stream",
     "text": [
      "C:\\Users\\elife\\AppData\\Local\\Temp\\ipykernel_35072\\3402664734.py:5: FutureWarning: A value is trying to be set on a copy of a DataFrame or Series through chained assignment using an inplace method.\n",
      "The behavior will change in pandas 3.0. This inplace method will never work because the intermediate object on which we are setting values always behaves as a copy.\n",
      "\n",
      "For example, when doing 'df[col].method(value, inplace=True)', try using 'df.method({col: value}, inplace=True)' or df[col] = df[col].method(value) instead, to perform the operation inplace on the original object.\n",
      "\n",
      "\n",
      "  df_clean[col].fillna(mode_value, inplace=True)\n",
      "C:\\Users\\elife\\AppData\\Local\\Temp\\ipykernel_35072\\3402664734.py:5: FutureWarning: Downcasting object dtype arrays on .fillna, .ffill, .bfill is deprecated and will change in a future version. Call result.infer_objects(copy=False) instead. To opt-in to the future behavior, set `pd.set_option('future.no_silent_downcasting', True)`\n",
      "  df_clean[col].fillna(mode_value, inplace=True)\n"
     ]
    }
   ],
   "source": [
    "df_clean = df_selected.copy()\n",
    "\n",
    "for col in ['road_surface_conditions', 'junction_detail', 'vehicle_type', 'casualty_type']:\n",
    "    mode_value = df_clean[col].mode()[0]\n",
    "    df_clean[col].fillna(mode_value, inplace=True)\n",
    "    \n",
    "df_clean = df_clean.dropna(subset=['age_of_driver'])\n",
    "\n",
    "# time column is formatted for ease of use\n",
    "def time_to_minutes(time_str):\n",
    "    hours, minutes = map(int, time_str.split(':'))\n",
    "    return hours * 60 + minutes\n",
    "    \n",
    "df_clean['time'] = df_clean['time'].apply(time_to_minutes)\n",
    "df_selected = df_clean.copy()"
   ]
  },
  {
   "cell_type": "markdown",
   "id": "1d8f6da2-7dbd-4b4d-8705-0c76ee901362",
   "metadata": {},
   "source": [
    "#### 2.3 Visualizing Distributions and Correlations"
   ]
  },
  {
   "cell_type": "code",
   "execution_count": 24,
   "id": "775512f5-9591-48a7-8979-10b2edc22f0e",
   "metadata": {},
   "outputs": [
    {
     "data": {
      "image/png": "[encoded data removed]",
      "text/plain": [
       "<Figure size 800x500 with 1 Axes>"
      ]
     },
     "metadata": {},
     "output_type": "display_data"
    }
   ],
   "source": [
    "severity_counts = df_selected['accident_severity'].value_counts()\n",
    "plt.figure(figsize=(8, 5))\n",
    "plt.pie(severity_counts, labels=severity_counts.index, autopct='%1.1f%%', startangle=90)\n",
    "plt.title(\"Accident Severity Distribution\")\n",
    "plt.show()"
   ]
  },
  {
   "cell_type": "code",
   "execution_count": 25,
   "id": "6b034705-3c38-4b14-aef6-b8946dad8e1b",
   "metadata": {
    "scrolled": true
   },
   "outputs": [
    {
     "name": "stdout",
     "output_type": "stream",
     "text": [
      "Processing day_of_week, Confusion Matrix:\n",
      "accident_severity    1     2      3\n",
      "day_of_week                        \n",
      "1                  768  7278  17736\n",
      "2                  743  6834  22161\n",
      "3                  521  7479  23241\n",
      "4                  484  7695  23480\n",
      "5                  656  7742  24020\n",
      "6                  881  8925  26477\n",
      "7                  813  8224  21687\n",
      "Processing time, Confusion Matrix:\n",
      "accident_severity   1   2    3\n",
      "time                          \n",
      "0                   4   3   35\n",
      "1                  15  32  167\n",
      "2                  11  22   37\n",
      "3                   3  12   25\n",
      "4                   0   7   17\n",
      "...                ..  ..  ...\n",
      "1435                6  27   88\n",
      "1436                4  12   25\n",
      "1437                0  10   21\n",
      "1438                2  23   14\n",
      "1439                0   3   14\n",
      "\n",
      "[1440 rows x 3 columns]\n",
      "Processing road_surface_conditions, Confusion Matrix:\n",
      "accident_severity           1      2       3\n",
      "road_surface_conditions                     \n",
      "1                        3227  38055  111370\n",
      "2                        1543  14746   42848\n",
      "3                           6    166     459\n",
      "4                          54   1033    2223\n",
      "5                          36    124     227\n",
      "9                           0     53    1675\n",
      "Processing light_conditions, Confusion Matrix:\n",
      "accident_severity     1      2       3\n",
      "light_conditions                      \n",
      "1                  3020  38440  116562\n",
      "4                   768  10123   31198\n",
      "5                    68    343    1096\n",
      "6                   866   4751    8043\n",
      "7                   144    520    1903\n",
      "Processing weather_conditions, Confusion Matrix:\n",
      "accident_severity      1      2       3\n",
      "weather_conditions                     \n",
      "1                   3977  44141  125844\n",
      "2                    584   6748   20289\n",
      "3                     33    217     719\n",
      "4                     70    619    1454\n",
      "5                    107    605    1796\n",
      "6                      0     35      62\n",
      "7                     11    200     520\n",
      "8                     69   1151    4411\n",
      "9                     15    461    3707\n",
      "Processing road_type, Confusion Matrix:\n",
      "accident_severity     1      2       3\n",
      "road_type                             \n",
      "1                    68   2006    9650\n",
      "2                    20    575    2466\n",
      "3                   977   9531   30054\n",
      "6                  3726  40892  109981\n",
      "7                    69    862    3219\n",
      "9                     6    311    3432\n",
      "Processing junction_detail, Confusion Matrix:\n",
      "accident_severity     1      2      3\n",
      "junction_detail                      \n",
      "0                  3398  26452  64335\n",
      "1                    90   2460  12466\n",
      "2                     5    561   2443\n",
      "3                   791  13861  43312\n",
      "5                    71    657   1896\n",
      "6                   210   5174  16296\n",
      "7                    24    764   2651\n",
      "8                    60   1236   3574\n",
      "9                   217   2949   9214\n",
      "99                    0     63   2615\n",
      "Processing vehicle_type, Confusion Matrix:\n",
      "accident_severity     1      2       3\n",
      "vehicle_type                          \n",
      "1                   107   4040   11181\n",
      "2                     2    252     726\n",
      "3                    94   2255    7463\n",
      "4                    35    869    1267\n",
      "5                   337   2473    2265\n",
      "8                    51    709    2440\n",
      "9                  3431  36714  115609\n",
      "10                    4     98     260\n",
      "11                  125   1160    2696\n",
      "16                    0     22      41\n",
      "17                   19    162     223\n",
      "18                    1     10       8\n",
      "19                  306   3207    9530\n",
      "20                   42    197     604\n",
      "21                  230    867    2147\n",
      "22                   18     73     201\n",
      "23                    9    129     173\n",
      "90                   31    641    1351\n",
      "97                   14    200     238\n",
      "98                   10     99     379\n",
      "Processing age_of_driver, Confusion Matrix:\n",
      "accident_severity  1   2   3\n",
      "age_of_driver               \n",
      "1                  0   0   2\n",
      "2                  0   0   2\n",
      "3                  0   1   7\n",
      "4                  0   1  10\n",
      "5                  0   3  19\n",
      "...               ..  ..  ..\n",
      "96                 2   1  10\n",
      "97                 0   4   5\n",
      "98                 0   4   5\n",
      "99                 2  29  73\n",
      "100                0   6  39\n",
      "\n",
      "[100 rows x 3 columns]\n",
      "Processing casualty_type, Confusion Matrix:\n",
      "accident_severity     1      2       3\n",
      "casualty_type                         \n",
      "0                   533   5329    9304\n",
      "1                   176   6494   18142\n",
      "2                     5    391    1087\n",
      "3                   139   3493   10657\n",
      "4                    52   1264    1987\n",
      "5                   461   3719    3560\n",
      "8                    34    433    1977\n",
      "9                  3032  28236  100274\n",
      "10                    0     95     179\n",
      "11                   84   1118    2174\n",
      "16                    0     36      57\n",
      "17                    5     52      42\n",
      "18                    0      2       2\n",
      "19                  169   1737    5812\n",
      "20                   26    107     257\n",
      "21                   65    259     552\n",
      "22                   27     91     311\n",
      "23                    8    203     264\n",
      "90                   30    782    1690\n",
      "97                   19    299     331\n",
      "98                    1     37     143\n",
      "                   Feature  CramersV\n",
      "1                     time  0.217838\n",
      "9            casualty_type  0.120351\n",
      "6          junction_detail  0.093074\n",
      "7             vehicle_type  0.091459\n",
      "3         light_conditions  0.072500\n",
      "8            age_of_driver  0.067763\n",
      "5                road_type  0.061959\n",
      "4       weather_conditions  0.041637\n",
      "2  road_surface_conditions  0.041191\n",
      "0              day_of_week  0.036274\n"
     ]
    }
   ],
   "source": [
    "from scipy.stats import chi2_contingency\n",
    "\n",
    "def cramers_v(confusion_matrix):\n",
    "    try:\n",
    "        chi2 = chi2_contingency(confusion_matrix)[0]\n",
    "        n = confusion_matrix.sum().sum()\n",
    "        phi2 = chi2 / n\n",
    "        r, k = confusion_matrix.shape\n",
    "        return np.sqrt(phi2 / min(r - 1, k - 1))\n",
    "    except ValueError:\n",
    "        return np.nan\n",
    "\n",
    "correlation_results = {}\n",
    "for column in df_selected.columns:\n",
    "    if column != 'accident_severity':\n",
    "        confusion_matrix = pd.crosstab(df_selected[column], df_selected['accident_severity'])\n",
    "        print(f\"Processing {column}, Confusion Matrix:\\n{confusion_matrix}\")\n",
    "        correlation_results[column] = cramers_v(confusion_matrix)\n",
    "\n",
    "correlation_results = {k: v for k, v in correlation_results.items() if not pd.isna(v) and not isinstance(v, pd.Series)}\n",
    "correlation_df = pd.DataFrame(list(correlation_results.items()), columns=['Feature', 'CramersV'])\n",
    "\n",
    "correlation_df = correlation_df.sort_values(by='CramersV', ascending=False)\n",
    "print(correlation_df)"
   ]
  },
  {
   "cell_type": "code",
   "execution_count": 26,
   "id": "99f50a5f-6e75-4776-abf4-96aeb978fba9",
   "metadata": {},
   "outputs": [
    {
     "data": {
      "image/png": "[encoded data removed]",
      "text/plain": [
       "<Figure size 1200x800 with 1 Axes>"
      ]
     },
     "metadata": {},
     "output_type": "display_data"
    }
   ],
   "source": [
    "plt.figure(figsize=(12, 8))\n",
    "plt.barh(correlation_df['Feature'], correlation_df['CramersV'], color='skyblue', edgecolor='black')\n",
    "plt.xlabel('Cramér\\'s V', fontsize=14)\n",
    "plt.ylabel('Feature', fontsize=14)\n",
    "plt.title('Feature Correlations with Accident Severity', fontsize=16)\n",
    "plt.gca().invert_yaxis()\n",
    "plt.grid(axis='x', linestyle='--', alpha=0.7)\n",
    "plt.tight_layout()\n",
    "plt.show()"
   ]
  },
  {
   "cell_type": "markdown",
   "id": "49058712-6e50-4835-9aee-9d64fa2c7084",
   "metadata": {},
   "source": [
    "### 3. Data Preprocessing"
   ]
  },
  {
   "cell_type": "markdown",
   "id": "51212340-2e15-439f-b9ef-7fe69a7d1fa7",
   "metadata": {},
   "source": [
    "#### 3.1 Creating Target Variables"
   ]
  },
  {
   "cell_type": "code",
   "execution_count": 31,
   "id": "86c9be06-fce9-415e-913d-be643e19333e",
   "metadata": {},
   "outputs": [],
   "source": [
    "target_classification = 'accident_severity'\n",
    "X = df_selected.drop(columns=[target_classification])  # Features\n",
    "y_classification = df_selected[target_classification]  # Target\n"
   ]
  },
  {
   "cell_type": "markdown",
   "id": "22ee6e34-30cc-4b25-9a92-08fa10ba5ead",
   "metadata": {},
   "source": [
    "#### 3.2 Splitting the Training and Test Data for Logistic Regression"
   ]
  },
  {
   "cell_type": "code",
   "execution_count": 34,
   "id": "c33804da-20ab-4c7b-a1d9-049af0a5cd21",
   "metadata": {},
   "outputs": [],
   "source": [
    "from sklearn.model_selection import train_test_split\n",
    "\n",
    "X_train, X_test, y_train, y_test = train_test_split(X, y_classification,\n",
    "                                                    test_size=0.2,\n",
    "                                                    random_state=42,\n",
    "                                                    stratify=y_classification)\n"
   ]
  },
  {
   "cell_type": "markdown",
   "id": "a24270ed-939d-4901-963f-dbdb41b6eff6",
   "metadata": {},
   "source": [
    "### 4. Model Development"
   ]
  },
  {
   "cell_type": "markdown",
   "id": "505fc7d7-871f-48a1-938f-9a2a91d61167",
   "metadata": {},
   "source": [
    "#### 4.1 Logistic Regression"
   ]
  },
  {
   "cell_type": "code",
   "execution_count": 40,
   "id": "bc72e568-5708-4d2f-a80d-ce5cfc280bd5",
   "metadata": {},
   "outputs": [
    {
     "name": "stdout",
     "output_type": "stream",
     "text": [
      "Accuracy: 43.59%\n",
      "\n",
      "Classification Report:\n",
      "              precision    recall  f1-score   support\n",
      "\n",
      "           1       0.04      0.59      0.07       973\n",
      "           2       0.27      0.17      0.21     10835\n",
      "           3       0.77      0.52      0.62     31761\n",
      "\n",
      "    accuracy                           0.44     43569\n",
      "   macro avg       0.36      0.43      0.30     43569\n",
      "weighted avg       0.63      0.44      0.51     43569\n",
      "\n"
     ]
    }
   ],
   "source": [
    "from imblearn.over_sampling import SMOTE\n",
    "from sklearn.metrics import classification_report, accuracy_score\n",
    "from sklearn.linear_model import LogisticRegression\n",
    "from sklearn.preprocessing import StandardScaler\n",
    "\n",
    "scaler = StandardScaler()\n",
    "X_train_scaled = scaler.fit_transform(X_train)\n",
    "X_test_scaled = scaler.transform(X_test)\n",
    "\n",
    "smote = SMOTE(random_state=42)\n",
    "X_train_resampled, y_train_resampled = smote.fit_resample(X_train_scaled, y_train)\n",
    "\n",
    "logistic_model = LogisticRegression(C=0.01, #best parameters, found by hyperparameter tuning with GridSearchCV\n",
    "        penalty='l1',  \n",
    "        solver='liblinear',\n",
    "        max_iter=1000,\n",
    "        random_state=42)\n",
    "\n",
    "logistic_model.fit(X_train_resampled, y_train_resampled)\n",
    "\n",
    "y_pred = logistic_model.predict(X_test_scaled)\n",
    "\n",
    "accuracy = accuracy_score(y_test, y_pred)\n",
    "report = classification_report(y_test, y_pred, zero_division=1)\n",
    "\n",
    "print(f\"Accuracy: {accuracy * 100:.2f}%\")\n",
    "print(\"\\nClassification Report:\")\n",
    "print(report)\n"
   ]
  },
  {
   "cell_type": "markdown",
   "id": "6f1b761f-2057-49a8-a638-0a93aa7542a9",
   "metadata": {},
   "source": [
    "#### 4.2 Random Forest Classifier"
   ]
  },
  {
   "cell_type": "code",
   "execution_count": null,
   "id": "b27f82b4-c9cc-4c93-bd90-17979869cf83",
   "metadata": {
    "scrolled": true
   },
   "outputs": [],
   "source": [
    "from sklearn.model_selection import StratifiedKFold\n",
    "from imblearn.over_sampling import SMOTE\n",
    "from sklearn.metrics import classification_report, accuracy_score\n",
    "from sklearn.ensemble import RandomForestClassifier\n",
    "\n",
    "k = 5\n",
    "kf = StratifiedKFold(n_splits=k, shuffle=True, random_state=42)\n",
    "\n",
    "accuracies = []\n",
    "all_classification_reports = []\n",
    "\n",
    "for fold, (train_idx, test_idx) in enumerate(kf.split(X, y_classification), 1):\n",
    "    X_train, X_test = X.iloc[train_idx], X.iloc[test_idx]\n",
    "    y_train, y_test = y_classification.iloc[train_idx], y_classification.iloc[test_idx]\n",
    "    \n",
    "    smote = SMOTE(sampling_strategy='auto', random_state=42)\n",
    "    X_train_resampled, y_train_resampled = smote.fit_resample(X_train, y_train)\n",
    "    \n",
    "    model = RandomForestClassifier(random_state=42, class_weight='balanced')\n",
    "    model.fit(X_train_resampled, y_train_resampled)\n",
    "    y_pred = model.predict(X_test)\n",
    "  \n",
    "    accuracy = accuracy_score(y_test, y_pred)\n",
    "    accuracies.append(accuracy)\n",
    "\n",
    "    classification_rep = classification_report(y_test, y_pred, output_dict=True)\n",
    "    all_classification_reports.append(classification_rep)\n",
    "    \n",
    "    print(f\"Fold {fold}: Accuracy = {accuracy:.2f}\")\n",
    "    print(classification_report(y_test, y_pred))\n",
    "    print(\"-\" * 50)\n",
    "\n",
    "mean_accuracy = np.mean(accuracies)\n",
    "print(f\"\\nMean Accuracy Across {k} Folds: {mean_accuracy:.2f}\")"
   ]
  },
  {
   "cell_type": "markdown",
   "id": "bb8b7267-173f-4b20-9b17-897c2af140d3",
   "metadata": {},
   "source": [
    "#### 4.3 Decision Tree Classifier"
   ]
  },
  {
   "cell_type": "code",
   "execution_count": 44,
   "id": "f4fed1af-6091-4650-9f76-bc9590d652f8",
   "metadata": {},
   "outputs": [
    {
     "name": "stdout",
     "output_type": "stream",
     "text": [
      "Fold 1\n",
      "Best Parameters for Fold 1: {'criterion': 'entropy', 'max_depth': None, 'min_samples_leaf': 1, 'min_samples_split': 2}\n",
      "Fold 1 Accuracy: 0.77\n",
      "--------------------------------------------------\n",
      "Fold 2\n",
      "Best Parameters for Fold 2: {'criterion': 'entropy', 'max_depth': None, 'min_samples_leaf': 1, 'min_samples_split': 2}\n",
      "Fold 2 Accuracy: 0.76\n",
      "--------------------------------------------------\n",
      "Fold 3\n",
      "Best Parameters for Fold 3: {'criterion': 'entropy', 'max_depth': None, 'min_samples_leaf': 1, 'min_samples_split': 2}\n",
      "Fold 3 Accuracy: 0.76\n",
      "--------------------------------------------------\n",
      "Fold 4\n",
      "Best Parameters for Fold 4: {'criterion': 'entropy', 'max_depth': None, 'min_samples_leaf': 1, 'min_samples_split': 2}\n",
      "Fold 4 Accuracy: 0.77\n",
      "--------------------------------------------------\n",
      "Fold 5\n",
      "Best Parameters for Fold 5: {'criterion': 'gini', 'max_depth': None, 'min_samples_leaf': 1, 'min_samples_split': 2}\n",
      "Fold 5 Accuracy: 0.76\n",
      "--------------------------------------------------\n",
      "\n",
      "Mean Accuracy Across 5 Folds: 0.76\n"
     ]
    }
   ],
   "source": [
    "from sklearn.tree import DecisionTreeClassifier\n",
    "from sklearn.model_selection import GridSearchCV, StratifiedKFold\n",
    "from sklearn.metrics import accuracy_score, classification_report\n",
    "from imblearn.over_sampling import SMOTE\n",
    "import numpy as np\n",
    "\n",
    "param_grid = {\n",
    "    'max_depth': [5, 10, 15, None],\n",
    "    'min_samples_split': [2, 5, 10],\n",
    "    'min_samples_leaf': [1, 2, 4],\n",
    "    'criterion': ['gini', 'entropy']\n",
    "}\n",
    "\n",
    "kf = StratifiedKFold(n_splits=5, shuffle=True, random_state=42)\n",
    "accuracies = []\n",
    "\n",
    "for fold, (train_idx, test_idx) in enumerate(kf.split(X, y_classification), 1):\n",
    "    print(f\"Fold {fold}\")\n",
    "    \n",
    "    X_train, X_test = X.iloc[train_idx], X.iloc[test_idx]\n",
    "    y_train, y_test = y_classification.iloc[train_idx], y_classification.iloc[test_idx]\n",
    "    \n",
    "    smote = SMOTE(sampling_strategy='auto', random_state=42)\n",
    "    X_train_resampled, y_train_resampled = smote.fit_resample(X_train, y_train)\n",
    "    \n",
    "    grid_search = GridSearchCV(\n",
    "        estimator=DecisionTreeClassifier(random_state=42),\n",
    "        param_grid=param_grid,\n",
    "        scoring='accuracy',\n",
    "        cv=3,\n",
    "        n_jobs=-1\n",
    "    )\n",
    "    grid_search.fit(X_train_resampled, y_train_resampled)\n",
    "    \n",
    "    best_params = grid_search.best_params_\n",
    "    print(f\"Best Parameters for Fold {fold}: {best_params}\")\n",
    "    \n",
    "    best_model = grid_search.best_estimator_\n",
    "    best_model.fit(X_train_resampled, y_train_resampled)\n",
    "    y_pred = best_model.predict(X_test)\n",
    "    \n",
    "    accuracy = accuracy_score(y_test, y_pred)\n",
    "    accuracies.append(accuracy)\n",
    "    print(f\"Fold {fold} Accuracy: {accuracy:.2f}\")\n",
    "    print(\"-\" * 50)\n",
    "\n",
    "mean_accuracy = np.mean(accuracies)\n",
    "print(f\"\\nMean Accuracy Across {kf.n_splits} Folds: {mean_accuracy:.2f}\")"
   ]
  }
 ],
 "metadata": {
  "kernelspec": {
   "display_name": "Python [conda env:base] *",
   "language": "python",
   "name": "conda-base-py"
  },
  "language_info": {
   "codemirror_mode": {
    "name": "ipython",
    "version": 3
   },
   "file_extension": ".py",
   "mimetype": "text/x-python",
   "name": "python",
   "nbconvert_exporter": "python",
   "pygments_lexer": "ipython3",
   "version": "3.12.7"
  }
 },
 "nbformat": 4,
 "nbformat_minor": 5
}
